{
 "cells": [
  {
   "cell_type": "markdown",
   "metadata": {
    "papermill": {
     "duration": 0.012295,
     "end_time": "2020-11-24T15:33:44.585418",
     "exception": false,
     "start_time": "2020-11-24T15:33:44.573123",
     "status": "completed"
    },
    "tags": []
   },
   "source": [
    "# Building a Basic MNIST Neural Network from Scratch\n",
    "\n",
    "Within this notebook, I've created a straightforward two-layer neural network and conducted training using the MNIST digit recognizer mnistset. This serves as an educational illustration, providing insights into the fundamental mathematics behind neural networks."
   ]
  },
  {
   "cell_type": "code",
   "execution_count": 1,
   "metadata": {
    "_cell_guid": "b1076dfc-b9ad-4769-8c92-a6c4dae69d19",
    "_uuid": "8f2839f25d086af736a60e9eeb907d3b93b6e0e5",
    "papermill": {
     "duration": 3.947576,
     "end_time": "2020-11-24T15:33:48.546057",
     "exception": false,
     "start_time": "2020-11-24T15:33:44.598481",
     "status": "completed"
    },
    "tags": []
   },
   "outputs": [],
   "source": [
    "import numpy as np\n",
    "import pandas as pd\n",
    "from matplotlib import pyplot as plt\n"
   ]
  },
  {
   "cell_type": "code",
   "execution_count": 2,
   "metadata": {
    "papermill": {
     "duration": 0.795759,
     "end_time": "2020-11-24T15:33:49.353603",
     "exception": false,
     "start_time": "2020-11-24T15:33:48.557844",
     "status": "completed"
    },
    "tags": []
   },
   "outputs": [],
   "source": [
    "\n",
    "mnist = pd.read_csv('Abdu/train.csv')\n",
    "mnist = np.array(mnist)\n",
    "m, n = mnist.shape\n",
    "np.random.shuffle(mnist) # shuffle before splitting into validation and training sets"
   ]
  },
  {
   "cell_type": "code",
   "execution_count": 3,
   "metadata": {},
   "outputs": [],
   "source": [
    "mnist_validation = mnist[0:1500].T\n",
    "Y_validation = mnist_validation[0]\n",
    "X_validation = mnist_validation[1:n]\n",
    "X_validation = X_validation / 255."
   ]
  },
  {
   "cell_type": "code",
   "execution_count": 4,
   "metadata": {},
   "outputs": [],
   "source": [
    "mnist_train = mnist[1500:m].T\n",
    "Y_train = mnist_train[0]\n",
    "X_train = mnist_train[1:n]\n",
    "X_train = X_train / 255.\n",
    "_,m_train = X_train.shape"
   ]
  },
  {
   "cell_type": "code",
   "execution_count": 5,
   "metadata": {
    "papermill": {
     "duration": 0.023743,
     "end_time": "2020-11-24T15:33:49.389054",
     "exception": false,
     "start_time": "2020-11-24T15:33:49.365311",
     "status": "completed"
    },
    "tags": []
   },
   "outputs": [
    {
     "data": {
      "text/plain": [
       "array([3, 1, 7, ..., 4, 1, 1], dtype=int64)"
      ]
     },
     "execution_count": 5,
     "metadata": {},
     "output_type": "execute_result"
    }
   ],
   "source": [
    "Y_train"
   ]
  },
  {
   "cell_type": "markdown",
   "metadata": {
    "papermill": {
     "duration": 0.011724,
     "end_time": "2020-11-24T15:33:49.413261",
     "exception": false,
     "start_time": "2020-11-24T15:33:49.401537",
     "status": "completed"
    },
    "tags": []
   },
   "source": [
    "Our NN will have a simple two-layer architecture. Input layer $a^{[0]}$ will have 784 units corresponding to the 784 pixels in each 28x28 input image. A hidden layer $a^{[1]}$ will have 10 units with ReLU activation, and finally our output layer $a^{[2]}$ will have 10 units corresponding to the ten digit classes with softmax activation.\n",
    "\n",
    "**Forward propagation**\n",
    "\n",
    "$$Z^{[1]} = W^{[1]} X + b^{[1]}$$\n",
    "$$A^{[1]} = g_{\\text{ReLU}}(Z^{[1]}))$$\n",
    "$$Z^{[2]} = W^{[2]} A^{[1]} + b^{[2]}$$\n",
    "$$A^{[2]} = g_{\\text{softmax}}(Z^{[2]})$$\n",
    "\n",
    "**Backward propagation**\n",
    "\n",
    "$$dZ^{[2]} = A^{[2]} - Y$$\n",
    "$$dW^{[2]} = \\frac{1}{m} dZ^{[2]} A^{[1]T}$$\n",
    "$$dB^{[2]} = \\frac{1}{m} \\Sigma {dZ^{[2]}}$$\n",
    "$$dZ^{[1]} = W^{[2]T} dZ^{[2]} .* g^{[1]\\prime} (z^{[1]})$$\n",
    "$$dW^{[1]} = \\frac{1}{m} dZ^{[1]} A^{[0]T}$$\n",
    "$$dB^{[1]} = \\frac{1}{m} \\Sigma {dZ^{[1]}}$$\n",
    "\n",
    "**Parameter updates**\n",
    "\n",
    "$$W^{[2]} := W^{[2]} - \\alpha dW^{[2]}$$\n",
    "$$b^{[2]} := b^{[2]} - \\alpha db^{[2]}$$\n",
    "$$W^{[1]} := W^{[1]} - \\alpha dW^{[1]}$$\n",
    "$$b^{[1]} := b^{[1]} - \\alpha db^{[1]}$$\n",
    "\n",
    "**Vars and shapes**\n",
    "\n",
    "Forward prop\n",
    "\n",
    "- $A^{[0]} = X$: 784 x m\n",
    "- $Z^{[1]} \\sim A^{[1]}$: 10 x m\n",
    "- $W^{[1]}$: 10 x 784 (as $W^{[1]} A^{[0]} \\sim Z^{[1]}$)\n",
    "- $B^{[1]}$: 10 x 1\n",
    "- $Z^{[2]} \\sim A^{[2]}$: 10 x m\n",
    "- $W^{[1]}$: 10 x 10 (as $W^{[2]} A^{[1]} \\sim Z^{[2]}$)\n",
    "- $B^{[2]}$: 10 x 1\n",
    "\n",
    "Backprop\n",
    "\n",
    "- $dZ^{[2]}$: 10 x m ($~A^{[2]}$)\n",
    "- $dW^{[2]}$: 10 x 10\n",
    "- $dB^{[2]}$: 10 x 1\n",
    "- $dZ^{[1]}$: 10 x m ($~A^{[1]}$)\n",
    "- $dW^{[1]}$: 10 x 10\n",
    "- $dB^{[1]}$: 10 x 1"
   ]
  },
  {
   "cell_type": "code",
   "execution_count": 6,
   "metadata": {
    "papermill": {
     "duration": 0.035762,
     "end_time": "2020-11-24T15:33:49.460906",
     "exception": false,
     "start_time": "2020-11-24T15:33:49.425144",
     "status": "completed"
    },
    "tags": []
   },
   "outputs": [],
   "source": [
    "def init_params():\n",
    "    W1 = np.random.rand(10, 784) - 0.5\n",
    "    b1 = np.random.rand(10, 1) - 0.5\n",
    "    W2 = np.random.rand(10, 10) - 0.5\n",
    "    b2 = np.random.rand(10, 1) - 0.5\n",
    "    return W1, b1, W2, b2\n",
    "\n",
    "def ReLU(Z):\n",
    "    return np.maximum(Z, 0)\n",
    "\n",
    "def softmax(Z):\n",
    "    A = np.exp(Z) / sum(np.exp(Z))\n",
    "    return A\n",
    "    \n",
    "def forward_prop(W1, b1, W2, b2, X):\n",
    "    Z1 = W1.dot(X) + b1\n",
    "    A1 = ReLU(Z1)\n",
    "    Z2 = W2.dot(A1) + b2\n",
    "    A2 = softmax(Z2)\n",
    "    return Z1, A1, Z2, A2\n",
    "\n",
    "def ReLU_deriv(Z):\n",
    "    return Z > 0\n",
    "\n",
    "def one_hot(Y):\n",
    "    one_hot_Y = np.zeros((Y.size, Y.max() + 1))\n",
    "    one_hot_Y[np.arange(Y.size), Y] = 1\n",
    "    one_hot_Y = one_hot_Y.T\n",
    "    return one_hot_Y\n",
    "\n",
    "def backward_prop(Z1, A1, Z2, A2, W1, W2, X, Y):\n",
    "    one_hot_Y = one_hot(Y)\n",
    "    dZ2 = A2 - one_hot_Y\n",
    "    dW2 = 1 / m * dZ2.dot(A1.T)\n",
    "    db2 = 1 / m * np.sum(dZ2)\n",
    "    dZ1 = W2.T.dot(dZ2) * ReLU_deriv(Z1)\n",
    "    dW1 = 1 / m * dZ1.dot(X.T)\n",
    "    db1 = 1 / m * np.sum(dZ1)\n",
    "    return dW1, db1, dW2, db2\n",
    "\n",
    "def update_params(W1, b1, W2, b2, dW1, db1, dW2, db2, alpha):\n",
    "    W1 = W1 - alpha * dW1\n",
    "    b1 = b1 - alpha * db1    \n",
    "    W2 = W2 - alpha * dW2  \n",
    "    b2 = b2 - alpha * db2    \n",
    "    return W1, b1, W2, b2"
   ]
  },
  {
   "cell_type": "code",
   "execution_count": 7,
   "metadata": {
    "papermill": {
     "duration": 0.026744,
     "end_time": "2020-11-24T15:33:49.499906",
     "exception": false,
     "start_time": "2020-11-24T15:33:49.473162",
     "status": "completed"
    },
    "tags": []
   },
   "outputs": [],
   "source": [
    "def get_predictions(A2):\n",
    "    return np.argmax(A2, 0)\n",
    "\n",
    "def get_accuracy(predictions, Y):\n",
    "    print(predictions, Y)\n",
    "    return np.sum(predictions == Y) / Y.size\n",
    "\n",
    "def gradient_descent(X, Y, iterations, alpha):\n",
    "    W1, b1, W2, b2 = init_params()\n",
    "    for i in range(iterations):\n",
    "        Z1, A1, Z2, A2 = forward_prop(W1, b1, W2, b2, X)\n",
    "        dW1, db1, dW2, db2 = backward_prop(Z1, A1, Z2, A2, W1, W2, X, Y)\n",
    "        W1, b1, W2, b2 = update_params(W1, b1, W2, b2, dW1, db1, dW2, db2, alpha)\n",
    "        if i % 10 == 0:\n",
    "            print(\"Iteration: \", i)\n",
    "            predictions = get_predictions(A2)\n",
    "            print(get_accuracy(predictions, Y))\n",
    "    return W1, b1, W2, b2"
   ]
  },
  {
   "cell_type": "code",
   "execution_count": 18,
   "metadata": {
    "papermill": {
     "duration": 44.403186,
     "end_time": "2020-11-24T15:34:33.915380",
     "exception": false,
     "start_time": "2020-11-24T15:33:49.512194",
     "status": "completed"
    },
    "tags": []
   },
   "outputs": [
    {
     "name": "stdout",
     "output_type": "stream",
     "text": [
      "Iteration:  0\n",
      "[6 6 8 ... 6 6 3] [3 1 7 ... 4 1 1]\n",
      "0.08760493827160494\n",
      "Iteration:  10\n",
      "[2 6 8 ... 5 2 3] [3 1 7 ... 4 1 1]\n",
      "0.2034074074074074\n",
      "Iteration:  20\n",
      "[2 1 7 ... 5 2 3] [3 1 7 ... 4 1 1]\n",
      "0.29145679012345677\n",
      "Iteration:  30\n",
      "[2 1 7 ... 4 2 3] [3 1 7 ... 4 1 1]\n",
      "0.3653827160493827\n",
      "Iteration:  40\n",
      "[1 1 7 ... 4 2 3] [3 1 7 ... 4 1 1]\n",
      "0.44237037037037036\n",
      "Iteration:  50\n",
      "[1 1 7 ... 4 1 3] [3 1 7 ... 4 1 1]\n",
      "0.5019753086419753\n",
      "Iteration:  60\n",
      "[3 1 7 ... 4 1 3] [3 1 7 ... 4 1 1]\n",
      "0.5427654320987654\n",
      "Iteration:  70\n",
      "[3 1 7 ... 4 1 2] [3 1 7 ... 4 1 1]\n",
      "0.5731111111111111\n",
      "Iteration:  80\n",
      "[3 1 7 ... 4 1 2] [3 1 7 ... 4 1 1]\n",
      "0.5972592592592593\n",
      "Iteration:  90\n",
      "[3 1 7 ... 4 1 2] [3 1 7 ... 4 1 1]\n",
      "0.6211604938271605\n",
      "Iteration:  100\n",
      "[3 1 7 ... 4 1 2] [3 1 7 ... 4 1 1]\n",
      "0.6405925925925926\n",
      "Iteration:  110\n",
      "[3 1 7 ... 4 1 2] [3 1 7 ... 4 1 1]\n",
      "0.6569876543209876\n",
      "Iteration:  120\n",
      "[3 1 7 ... 4 1 2] [3 1 7 ... 4 1 1]\n",
      "0.6725679012345679\n",
      "Iteration:  130\n",
      "[3 1 7 ... 4 1 2] [3 1 7 ... 4 1 1]\n",
      "0.6869135802469136\n",
      "Iteration:  140\n",
      "[3 1 7 ... 4 1 2] [3 1 7 ... 4 1 1]\n",
      "0.7000740740740741\n",
      "Iteration:  150\n",
      "[3 1 7 ... 4 1 2] [3 1 7 ... 4 1 1]\n",
      "0.7112592592592593\n",
      "Iteration:  160\n",
      "[3 1 7 ... 4 1 2] [3 1 7 ... 4 1 1]\n",
      "0.7219506172839506\n",
      "Iteration:  170\n",
      "[3 1 7 ... 4 1 2] [3 1 7 ... 4 1 1]\n",
      "0.7318765432098765\n",
      "Iteration:  180\n",
      "[3 1 7 ... 4 1 2] [3 1 7 ... 4 1 1]\n",
      "0.7399506172839506\n",
      "Iteration:  190\n",
      "[3 1 7 ... 4 1 1] [3 1 7 ... 4 1 1]\n",
      "0.7484938271604938\n",
      "Iteration:  200\n",
      "[3 1 7 ... 4 1 1] [3 1 7 ... 4 1 1]\n",
      "0.7566666666666667\n",
      "Iteration:  210\n",
      "[3 1 7 ... 4 1 1] [3 1 7 ... 4 1 1]\n",
      "0.7643703703703704\n",
      "Iteration:  220\n",
      "[3 1 7 ... 4 1 1] [3 1 7 ... 4 1 1]\n",
      "0.7711358024691358\n",
      "Iteration:  230\n",
      "[3 1 7 ... 4 1 1] [3 1 7 ... 4 1 1]\n",
      "0.7775308641975308\n",
      "Iteration:  240\n",
      "[3 1 7 ... 4 1 1] [3 1 7 ... 4 1 1]\n",
      "0.7824444444444445\n",
      "Iteration:  250\n",
      "[3 1 7 ... 4 1 1] [3 1 7 ... 4 1 1]\n",
      "0.7873086419753086\n",
      "Iteration:  260\n",
      "[3 1 7 ... 4 1 1] [3 1 7 ... 4 1 1]\n",
      "0.7925185185185185\n",
      "Iteration:  270\n",
      "[3 1 7 ... 4 1 1] [3 1 7 ... 4 1 1]\n",
      "0.7974074074074075\n",
      "Iteration:  280\n",
      "[3 1 7 ... 4 1 1] [3 1 7 ... 4 1 1]\n",
      "0.8017283950617284\n",
      "Iteration:  290\n",
      "[3 1 7 ... 4 1 1] [3 1 7 ... 4 1 1]\n",
      "0.805283950617284\n",
      "Iteration:  300\n",
      "[3 1 7 ... 4 1 1] [3 1 7 ... 4 1 1]\n",
      "0.8100493827160494\n",
      "Iteration:  310\n",
      "[3 1 7 ... 4 1 1] [3 1 7 ... 4 1 1]\n",
      "0.8133827160493827\n",
      "Iteration:  320\n",
      "[3 1 7 ... 4 1 1] [3 1 7 ... 4 1 1]\n",
      "0.8173086419753086\n",
      "Iteration:  330\n",
      "[3 1 7 ... 4 1 1] [3 1 7 ... 4 1 1]\n",
      "0.8198765432098766\n",
      "Iteration:  340\n",
      "[3 1 7 ... 4 1 1] [3 1 7 ... 4 1 1]\n",
      "0.822962962962963\n",
      "Iteration:  350\n",
      "[3 1 7 ... 4 1 1] [3 1 7 ... 4 1 1]\n",
      "0.825358024691358\n",
      "Iteration:  360\n",
      "[3 1 7 ... 4 1 1] [3 1 7 ... 4 1 1]\n",
      "0.8277283950617284\n",
      "Iteration:  370\n",
      "[3 1 7 ... 4 1 1] [3 1 7 ... 4 1 1]\n",
      "0.8301728395061728\n",
      "Iteration:  380\n",
      "[3 1 7 ... 4 1 1] [3 1 7 ... 4 1 1]\n",
      "0.8324691358024692\n",
      "Iteration:  390\n",
      "[3 1 7 ... 4 1 1] [3 1 7 ... 4 1 1]\n",
      "0.834962962962963\n",
      "Iteration:  400\n",
      "[3 1 7 ... 4 1 1] [3 1 7 ... 4 1 1]\n",
      "0.837037037037037\n",
      "Iteration:  410\n",
      "[3 1 7 ... 4 1 1] [3 1 7 ... 4 1 1]\n",
      "0.839037037037037\n",
      "Iteration:  420\n",
      "[3 1 7 ... 4 1 1] [3 1 7 ... 4 1 1]\n",
      "0.8406419753086419\n",
      "Iteration:  430\n",
      "[3 1 7 ... 4 1 1] [3 1 7 ... 4 1 1]\n",
      "0.8422222222222222\n",
      "Iteration:  440\n",
      "[3 1 7 ... 4 1 1] [3 1 7 ... 4 1 1]\n",
      "0.8437283950617284\n",
      "Iteration:  450\n",
      "[3 1 7 ... 4 1 1] [3 1 7 ... 4 1 1]\n",
      "0.8455308641975309\n",
      "Iteration:  460\n",
      "[3 1 7 ... 4 1 1] [3 1 7 ... 4 1 1]\n",
      "0.8469135802469135\n",
      "Iteration:  470\n",
      "[3 1 7 ... 4 1 1] [3 1 7 ... 4 1 1]\n",
      "0.8482222222222222\n",
      "Iteration:  480\n",
      "[3 1 7 ... 4 1 1] [3 1 7 ... 4 1 1]\n",
      "0.8494320987654321\n",
      "Iteration:  490\n",
      "[3 1 7 ... 4 1 1] [3 1 7 ... 4 1 1]\n",
      "0.8505432098765432\n",
      "Iteration:  500\n",
      "[3 1 7 ... 4 1 1] [3 1 7 ... 4 1 1]\n",
      "0.8520987654320987\n",
      "Iteration:  510\n",
      "[3 1 7 ... 4 1 1] [3 1 7 ... 4 1 1]\n",
      "0.8534320987654321\n",
      "Iteration:  520\n",
      "[3 1 7 ... 4 1 1] [3 1 7 ... 4 1 1]\n",
      "0.8547407407407407\n",
      "Iteration:  530\n",
      "[3 1 7 ... 4 1 1] [3 1 7 ... 4 1 1]\n",
      "0.855679012345679\n",
      "Iteration:  540\n",
      "[3 1 7 ... 4 1 1] [3 1 7 ... 4 1 1]\n",
      "0.8566172839506173\n",
      "Iteration:  550\n",
      "[3 1 7 ... 4 1 1] [3 1 7 ... 4 1 1]\n",
      "0.8574074074074074\n",
      "Iteration:  560\n",
      "[3 1 7 ... 4 1 1] [3 1 7 ... 4 1 1]\n",
      "0.8583703703703703\n",
      "Iteration:  570\n",
      "[3 1 7 ... 4 1 1] [3 1 7 ... 4 1 1]\n",
      "0.8592345679012345\n",
      "Iteration:  580\n",
      "[3 1 7 ... 4 1 1] [3 1 7 ... 4 1 1]\n",
      "0.8602716049382716\n",
      "Iteration:  590\n",
      "[3 1 7 ... 4 1 1] [3 1 7 ... 4 1 1]\n",
      "0.8614814814814815\n"
     ]
    }
   ],
   "source": [
    "W1, b1, W2, b2 = gradient_descent(X_train, Y_train, 600, 0.1)"
   ]
  },
  {
   "cell_type": "markdown",
   "metadata": {
    "papermill": {
     "duration": 0.03222,
     "end_time": "2020-11-24T15:34:33.980634",
     "exception": false,
     "start_time": "2020-11-24T15:34:33.948414",
     "status": "completed"
    },
    "tags": []
   },
   "source": [
    "#### YAAAAAAAAAAY 86% "
   ]
  },
  {
   "cell_type": "code",
   "execution_count": 16,
   "metadata": {
    "papermill": {
     "duration": 0.048197,
     "end_time": "2020-11-24T15:34:34.061656",
     "exception": false,
     "start_time": "2020-11-24T15:34:34.013459",
     "status": "completed"
    },
    "tags": []
   },
   "outputs": [],
   "source": [
    "def make_predictions(X, W1, b1, W2, b2):\n",
    "    _, _, _, A2 = forward_prop(W1, b1, W2, b2, X)\n",
    "    predictions = get_predictions(A2)\n",
    "    return predictions\n",
    "\n",
    "def test_prediction(index, W1, b1, W2, b2):\n",
    "    current_image = X_train[:, index, None]\n",
    "    prediction = make_predictions(X_train[:, index, None], W1, b1, W2, b2)\n",
    "    label = Y_train[index]\n",
    "    print(\"Prediction: \", prediction)\n",
    "    print(\"Label: \", label)\n",
    "    \n",
    "    current_image = current_image.reshape((28, 28)) * 255\n",
    "    plt.gray()\n",
    "    plt.imshow(current_image, interpolation='nearest')\n",
    "    plt.show()"
   ]
  },
  {
   "cell_type": "markdown",
   "metadata": {
    "papermill": {
     "duration": 0.032382,
     "end_time": "2020-11-24T15:34:34.126664",
     "exception": false,
     "start_time": "2020-11-24T15:34:34.094282",
     "status": "completed"
    },
    "tags": []
   },
   "source": [
    "Let's look at a couple of examples:"
   ]
  },
  {
   "cell_type": "code",
   "execution_count": 19,
   "metadata": {},
   "outputs": [
    {
     "name": "stdout",
     "output_type": "stream",
     "text": [
      "Prediction:  [1]\n",
      "Label:  1\n"
     ]
    },
    {
     "data": {
      "image/png": "[encoded data removed]",
      "text/plain": [
       "<Figure size 640x480 with 1 Axes>"
      ]
     },
     "metadata": {},
     "output_type": "display_data"
    }
   ],
   "source": [
    "test_prediction(11, W1, b1, W2, b2)"
   ]
  },
  {
   "cell_type": "code",
   "execution_count": 20,
   "metadata": {},
   "outputs": [
    {
     "name": "stdout",
     "output_type": "stream",
     "text": [
      "Prediction:  [7]\n",
      "Label:  7\n"
     ]
    },
    {
     "data": {
      "image/png": "[encoded data removed]",
      "text/plain": [
       "<Figure size 640x480 with 1 Axes>"
      ]
     },
     "metadata": {},
     "output_type": "display_data"
    }
   ],
   "source": [
    "test_prediction(2, W1, b1, W2, b2)"
   ]
  },
  {
   "cell_type": "code",
   "execution_count": 22,
   "metadata": {},
   "outputs": [
    {
     "name": "stdout",
     "output_type": "stream",
     "text": [
      "Prediction:  [3]\n",
      "Label:  3\n"
     ]
    },
    {
     "data": {
      "image/png": "[encoded data removed]",
      "text/plain": [
       "<Figure size 640x480 with 1 Axes>"
      ]
     },
     "metadata": {},
     "output_type": "display_data"
    }
   ],
   "source": [
    "test_prediction(98, W1, b1, W2, b2)"
   ]
  },
  {
   "cell_type": "code",
   "execution_count": 24,
   "metadata": {},
   "outputs": [
    {
     "name": "stdout",
     "output_type": "stream",
     "text": [
      "Prediction:  [9]\n",
      "Label:  9\n"
     ]
    },
    {
     "data": {
      "image/png": "[encoded data removed]",
      "text/plain": [
       "<Figure size 640x480 with 1 Axes>"
      ]
     },
     "metadata": {},
     "output_type": "display_data"
    }
   ],
   "source": [
    "test_prediction(49, W1, b1, W2, b2)"
   ]
  },
  {
   "cell_type": "markdown",
   "metadata": {
    "papermill": {
     "duration": 0.037333,
     "end_time": "2020-11-24T15:34:34.933186",
     "exception": false,
     "start_time": "2020-11-24T15:34:34.895853",
     "status": "completed"
    },
    "tags": []
   },
   "source": [
    "Finally, let's find the accuracy on the validation set:"
   ]
  },
  {
   "cell_type": "code",
   "execution_count": 25,
   "metadata": {
    "papermill": {
     "duration": 0.062985,
     "end_time": "2020-11-24T15:34:35.033457",
     "exception": false,
     "start_time": "2020-11-24T15:34:34.970472",
     "status": "completed"
    },
    "tags": []
   },
   "outputs": [
    {
     "name": "stdout",
     "output_type": "stream",
     "text": [
      "[6 9 2 ... 3 7 5] [6 9 2 ... 3 9 5]\n"
     ]
    },
    {
     "data": {
      "text/plain": [
       "0.8466666666666667"
      ]
     },
     "execution_count": 25,
     "metadata": {},
     "output_type": "execute_result"
    }
   ],
   "source": [
    "validation_predictions = make_predictions(X_validation, W1, b1, W2, b2)\n",
    "get_accuracy(validation_predictions, Y_validation)"
   ]
  },
  {
   "cell_type": "markdown",
   "metadata": {
    "papermill": {
     "duration": 0.038287,
     "end_time": "2020-11-24T15:34:35.112466",
     "exception": false,
     "start_time": "2020-11-24T15:34:35.074179",
     "status": "completed"
    },
    "tags": []
   },
   "source": [
    "#### 84.6% accuracy "
   ]
  },
  {
   "cell_type": "markdown",
   "metadata": {},
   "source": [
    "## Model Conclusion:\n",
    "\n",
    "The from-scratch implemented neural network achieved an accuracy of 84.6% on the validation set. While this indicates successful learning, there is room for improvement through hyperparameter tuning and further analysis of misclassifications. The model demonstrates promising generalization to unseen data, highlighting its robustness. Future steps include fine-tuning, evaluating on a test set, and deeper analysis for enhanced performance."
   ]
  },
  {
   "cell_type": "code",
   "execution_count": null,
   "metadata": {},
   "outputs": [],
   "source": []
  }
 ],
 "metadata": {
  "kernelspec": {
   "display_name": "Python 3 (ipykernel)",
   "language": "python",
   "name": "python3"
  },
  "language_info": {
   "codemirror_mode": {
    "name": "ipython",
    "version": 3
   },
   "file_extension": ".py",
   "mimetype": "text/x-python",
   "name": "python",
   "nbconvert_exporter": "python",
   "pygments_lexer": "ipython3",
   "version": "3.8.15"
  },
  "papermill": {
   "duration": 55.320944,
   "end_time": "2020-11-24T15:34:35.258832",
   "environment_variables": {},
   "exception": null,
   "input_path": "__notebook__.ipynb",
   "output_path": "__notebook__.ipynb",
   "parameters": {},
   "start_time": "2020-11-24T15:33:39.937888",
   "version": "2.1.0"
  }
 },
 "nbformat": 4,
 "nbformat_minor": 4
}
